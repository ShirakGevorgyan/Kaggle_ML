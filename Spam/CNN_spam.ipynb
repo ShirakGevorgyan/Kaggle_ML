{
 "cells": [
  {
   "cell_type": "code",
   "execution_count": 2,
   "id": "348cfbbf-78ff-42ad-b510-d29de21e1fa4",
   "metadata": {},
   "outputs": [],
   "source": [
    "import numpy as np\n",
    "import pandas as pd \n",
    "import seaborn as sns\n",
    "import matplotlib.pyplot as plt\n",
    "from keras import Sequential\n",
    "from keras.layers import Dense"
   ]
  },
  {
   "cell_type": "code",
   "execution_count": 35,
   "id": "431329d5-80f6-4702-8af3-c3887bad6d98",
   "metadata": {},
   "outputs": [],
   "source": [
    "df_train = pd.read_csv('train.csv')\n",
    "df_test = pd.read_csv('test.csv')\n",
    "df_sub = pd.read_csv('sample_submission.csv')"
   ]
  },
  {
   "cell_type": "code",
   "execution_count": 36,
   "id": "d3150367-dc48-42c3-b0ed-0595f2716b7a",
   "metadata": {},
   "outputs": [],
   "source": [
    "X_train = df_train.drop('Exited', axis=1)\n",
    "y_train = df_train['Exited']\n",
    "X_test = df_test"
   ]
  },
  {
   "cell_type": "code",
   "execution_count": 37,
   "id": "d233ac73-bb78-4b06-ad11-7f5a9f061474",
   "metadata": {},
   "outputs": [
    {
     "data": {
      "text/html": [
       "<div>\n",
       "<style scoped>\n",
       "    .dataframe tbody tr th:only-of-type {\n",
       "        vertical-align: middle;\n",
       "    }\n",
       "\n",
       "    .dataframe tbody tr th {\n",
       "        vertical-align: top;\n",
       "    }\n",
       "\n",
       "    .dataframe thead th {\n",
       "        text-align: right;\n",
       "    }\n",
       "</style>\n",
       "<table border=\"1\" class=\"dataframe\">\n",
       "  <thead>\n",
       "    <tr style=\"text-align: right;\">\n",
       "      <th></th>\n",
       "      <th>id</th>\n",
       "      <th>CustomerId</th>\n",
       "      <th>Surname</th>\n",
       "      <th>CreditScore</th>\n",
       "      <th>Geography</th>\n",
       "      <th>Gender</th>\n",
       "      <th>Age</th>\n",
       "      <th>Tenure</th>\n",
       "      <th>Balance</th>\n",
       "      <th>NumOfProducts</th>\n",
       "      <th>HasCrCard</th>\n",
       "      <th>IsActiveMember</th>\n",
       "      <th>EstimatedSalary</th>\n",
       "    </tr>\n",
       "  </thead>\n",
       "  <tbody>\n",
       "    <tr>\n",
       "      <th>0</th>\n",
       "      <td>0</td>\n",
       "      <td>15715707.0</td>\n",
       "      <td>P'eng</td>\n",
       "      <td>685.0</td>\n",
       "      <td>France</td>\n",
       "      <td>Female</td>\n",
       "      <td>31.0</td>\n",
       "      <td>4.0</td>\n",
       "      <td>152582.2</td>\n",
       "      <td>1.0</td>\n",
       "      <td>1.0</td>\n",
       "      <td>1.0</td>\n",
       "      <td>130795.52</td>\n",
       "    </tr>\n",
       "    <tr>\n",
       "      <th>1</th>\n",
       "      <td>1</td>\n",
       "      <td>15651022.0</td>\n",
       "      <td>Ch'ien</td>\n",
       "      <td>590.0</td>\n",
       "      <td>France</td>\n",
       "      <td>Male</td>\n",
       "      <td>43.0</td>\n",
       "      <td>2.0</td>\n",
       "      <td>0.0</td>\n",
       "      <td>2.0</td>\n",
       "      <td>1.0</td>\n",
       "      <td>0.0</td>\n",
       "      <td>96929.24</td>\n",
       "    </tr>\n",
       "    <tr>\n",
       "      <th>2</th>\n",
       "      <td>2</td>\n",
       "      <td>15589969.0</td>\n",
       "      <td>Yeh</td>\n",
       "      <td>588.0</td>\n",
       "      <td>France</td>\n",
       "      <td>Male</td>\n",
       "      <td>31.0</td>\n",
       "      <td>10.0</td>\n",
       "      <td>0.0</td>\n",
       "      <td>2.0</td>\n",
       "      <td>1.0</td>\n",
       "      <td>1.0</td>\n",
       "      <td>177896.92</td>\n",
       "    </tr>\n",
       "    <tr>\n",
       "      <th>3</th>\n",
       "      <td>3</td>\n",
       "      <td>15618661.0</td>\n",
       "      <td>Ch'ien</td>\n",
       "      <td>593.0</td>\n",
       "      <td>Spain</td>\n",
       "      <td>Male</td>\n",
       "      <td>37.0</td>\n",
       "      <td>9.0</td>\n",
       "      <td>0.0</td>\n",
       "      <td>2.0</td>\n",
       "      <td>1.0</td>\n",
       "      <td>0.0</td>\n",
       "      <td>53817.23</td>\n",
       "    </tr>\n",
       "    <tr>\n",
       "      <th>4</th>\n",
       "      <td>4</td>\n",
       "      <td>15771580.0</td>\n",
       "      <td>Nweke</td>\n",
       "      <td>730.0</td>\n",
       "      <td>France</td>\n",
       "      <td>Female</td>\n",
       "      <td>52.0</td>\n",
       "      <td>8.0</td>\n",
       "      <td>0.0</td>\n",
       "      <td>1.0</td>\n",
       "      <td>1.0</td>\n",
       "      <td>0.0</td>\n",
       "      <td>1276.87</td>\n",
       "    </tr>\n",
       "    <tr>\n",
       "      <th>...</th>\n",
       "      <td>...</td>\n",
       "      <td>...</td>\n",
       "      <td>...</td>\n",
       "      <td>...</td>\n",
       "      <td>...</td>\n",
       "      <td>...</td>\n",
       "      <td>...</td>\n",
       "      <td>...</td>\n",
       "      <td>...</td>\n",
       "      <td>...</td>\n",
       "      <td>...</td>\n",
       "      <td>...</td>\n",
       "      <td>...</td>\n",
       "    </tr>\n",
       "    <tr>\n",
       "      <th>14995</th>\n",
       "      <td>14995</td>\n",
       "      <td>15700946.0</td>\n",
       "      <td>Chidubem</td>\n",
       "      <td>567.0</td>\n",
       "      <td>France</td>\n",
       "      <td>Female</td>\n",
       "      <td>29.0</td>\n",
       "      <td>6.0</td>\n",
       "      <td>0.0</td>\n",
       "      <td>2.0</td>\n",
       "      <td>1.0</td>\n",
       "      <td>0.0</td>\n",
       "      <td>69409.37</td>\n",
       "    </tr>\n",
       "    <tr>\n",
       "      <th>14996</th>\n",
       "      <td>14996</td>\n",
       "      <td>15652084.0</td>\n",
       "      <td>Teng</td>\n",
       "      <td>476.0</td>\n",
       "      <td>Spain</td>\n",
       "      <td>Male</td>\n",
       "      <td>29.0</td>\n",
       "      <td>3.0</td>\n",
       "      <td>0.0</td>\n",
       "      <td>2.0</td>\n",
       "      <td>1.0</td>\n",
       "      <td>0.0</td>\n",
       "      <td>116973.48</td>\n",
       "    </tr>\n",
       "    <tr>\n",
       "      <th>14997</th>\n",
       "      <td>14997</td>\n",
       "      <td>15657829.0</td>\n",
       "      <td>H?</td>\n",
       "      <td>773.0</td>\n",
       "      <td>France</td>\n",
       "      <td>Male</td>\n",
       "      <td>50.0</td>\n",
       "      <td>4.0</td>\n",
       "      <td>0.0</td>\n",
       "      <td>2.0</td>\n",
       "      <td>1.0</td>\n",
       "      <td>1.0</td>\n",
       "      <td>124071.71</td>\n",
       "    </tr>\n",
       "    <tr>\n",
       "      <th>14998</th>\n",
       "      <td>14998</td>\n",
       "      <td>15781598.0</td>\n",
       "      <td>Ch'en</td>\n",
       "      <td>648.0</td>\n",
       "      <td>France</td>\n",
       "      <td>Male</td>\n",
       "      <td>37.0</td>\n",
       "      <td>3.0</td>\n",
       "      <td>0.0</td>\n",
       "      <td>2.0</td>\n",
       "      <td>1.0</td>\n",
       "      <td>1.0</td>\n",
       "      <td>81602.02</td>\n",
       "    </tr>\n",
       "    <tr>\n",
       "      <th>14999</th>\n",
       "      <td>14999</td>\n",
       "      <td>15777772.0</td>\n",
       "      <td>Chinomso</td>\n",
       "      <td>635.0</td>\n",
       "      <td>France</td>\n",
       "      <td>Male</td>\n",
       "      <td>30.0</td>\n",
       "      <td>1.0</td>\n",
       "      <td>0.0</td>\n",
       "      <td>2.0</td>\n",
       "      <td>1.0</td>\n",
       "      <td>0.0</td>\n",
       "      <td>132959.33</td>\n",
       "    </tr>\n",
       "  </tbody>\n",
       "</table>\n",
       "<p>15000 rows × 13 columns</p>\n",
       "</div>"
      ],
      "text/plain": [
       "          id  CustomerId   Surname  CreditScore Geography  Gender   Age  \\\n",
       "0          0  15715707.0     P'eng        685.0    France  Female  31.0   \n",
       "1          1  15651022.0    Ch'ien        590.0    France    Male  43.0   \n",
       "2          2  15589969.0       Yeh        588.0    France    Male  31.0   \n",
       "3          3  15618661.0    Ch'ien        593.0     Spain    Male  37.0   \n",
       "4          4  15771580.0     Nweke        730.0    France  Female  52.0   \n",
       "...      ...         ...       ...          ...       ...     ...   ...   \n",
       "14995  14995  15700946.0  Chidubem        567.0    France  Female  29.0   \n",
       "14996  14996  15652084.0      Teng        476.0     Spain    Male  29.0   \n",
       "14997  14997  15657829.0        H?        773.0    France    Male  50.0   \n",
       "14998  14998  15781598.0     Ch'en        648.0    France    Male  37.0   \n",
       "14999  14999  15777772.0  Chinomso        635.0    France    Male  30.0   \n",
       "\n",
       "       Tenure   Balance  NumOfProducts  HasCrCard  IsActiveMember  \\\n",
       "0         4.0  152582.2            1.0        1.0             1.0   \n",
       "1         2.0       0.0            2.0        1.0             0.0   \n",
       "2        10.0       0.0            2.0        1.0             1.0   \n",
       "3         9.0       0.0            2.0        1.0             0.0   \n",
       "4         8.0       0.0            1.0        1.0             0.0   \n",
       "...       ...       ...            ...        ...             ...   \n",
       "14995     6.0       0.0            2.0        1.0             0.0   \n",
       "14996     3.0       0.0            2.0        1.0             0.0   \n",
       "14997     4.0       0.0            2.0        1.0             1.0   \n",
       "14998     3.0       0.0            2.0        1.0             1.0   \n",
       "14999     1.0       0.0            2.0        1.0             0.0   \n",
       "\n",
       "       EstimatedSalary  \n",
       "0            130795.52  \n",
       "1             96929.24  \n",
       "2            177896.92  \n",
       "3             53817.23  \n",
       "4              1276.87  \n",
       "...                ...  \n",
       "14995         69409.37  \n",
       "14996        116973.48  \n",
       "14997        124071.71  \n",
       "14998         81602.02  \n",
       "14999        132959.33  \n",
       "\n",
       "[15000 rows x 13 columns]"
      ]
     },
     "execution_count": 37,
     "metadata": {},
     "output_type": "execute_result"
    }
   ],
   "source": [
    "X_train"
   ]
  },
  {
   "cell_type": "code",
   "execution_count": 38,
   "id": "9312d4f1-1efc-4799-b263-81ad70f64eb9",
   "metadata": {},
   "outputs": [
    {
     "data": {
      "text/html": [
       "<div>\n",
       "<style scoped>\n",
       "    .dataframe tbody tr th:only-of-type {\n",
       "        vertical-align: middle;\n",
       "    }\n",
       "\n",
       "    .dataframe tbody tr th {\n",
       "        vertical-align: top;\n",
       "    }\n",
       "\n",
       "    .dataframe thead th {\n",
       "        text-align: right;\n",
       "    }\n",
       "</style>\n",
       "<table border=\"1\" class=\"dataframe\">\n",
       "  <thead>\n",
       "    <tr style=\"text-align: right;\">\n",
       "      <th></th>\n",
       "      <th>id</th>\n",
       "      <th>CustomerId</th>\n",
       "      <th>Surname</th>\n",
       "      <th>CreditScore</th>\n",
       "      <th>Geography</th>\n",
       "      <th>Gender</th>\n",
       "      <th>Age</th>\n",
       "      <th>Tenure</th>\n",
       "      <th>Balance</th>\n",
       "      <th>NumOfProducts</th>\n",
       "      <th>HasCrCard</th>\n",
       "      <th>IsActiveMember</th>\n",
       "      <th>EstimatedSalary</th>\n",
       "    </tr>\n",
       "  </thead>\n",
       "  <tbody>\n",
       "    <tr>\n",
       "      <th>0</th>\n",
       "      <td>15000</td>\n",
       "      <td>15628308.0</td>\n",
       "      <td>Nkemjika</td>\n",
       "      <td>583.0</td>\n",
       "      <td>France</td>\n",
       "      <td>Male</td>\n",
       "      <td>40.0</td>\n",
       "      <td>7.0</td>\n",
       "      <td>0.00</td>\n",
       "      <td>2.0</td>\n",
       "      <td>1.0</td>\n",
       "      <td>0.0</td>\n",
       "      <td>151481.86</td>\n",
       "    </tr>\n",
       "    <tr>\n",
       "      <th>1</th>\n",
       "      <td>15001</td>\n",
       "      <td>15686909.0</td>\n",
       "      <td>Chiu</td>\n",
       "      <td>595.0</td>\n",
       "      <td>France</td>\n",
       "      <td>Male</td>\n",
       "      <td>39.0</td>\n",
       "      <td>3.0</td>\n",
       "      <td>0.00</td>\n",
       "      <td>2.0</td>\n",
       "      <td>1.0</td>\n",
       "      <td>0.0</td>\n",
       "      <td>87400.53</td>\n",
       "    </tr>\n",
       "    <tr>\n",
       "      <th>2</th>\n",
       "      <td>15002</td>\n",
       "      <td>15579616.0</td>\n",
       "      <td>Folliero</td>\n",
       "      <td>622.0</td>\n",
       "      <td>France</td>\n",
       "      <td>Male</td>\n",
       "      <td>24.0</td>\n",
       "      <td>3.0</td>\n",
       "      <td>0.00</td>\n",
       "      <td>2.0</td>\n",
       "      <td>1.0</td>\n",
       "      <td>0.0</td>\n",
       "      <td>176712.59</td>\n",
       "    </tr>\n",
       "    <tr>\n",
       "      <th>3</th>\n",
       "      <td>15003</td>\n",
       "      <td>15795953.0</td>\n",
       "      <td>Chukwubuikem</td>\n",
       "      <td>577.0</td>\n",
       "      <td>Germany</td>\n",
       "      <td>Male</td>\n",
       "      <td>50.0</td>\n",
       "      <td>5.0</td>\n",
       "      <td>127305.50</td>\n",
       "      <td>1.0</td>\n",
       "      <td>1.0</td>\n",
       "      <td>1.0</td>\n",
       "      <td>28806.32</td>\n",
       "    </tr>\n",
       "    <tr>\n",
       "      <th>4</th>\n",
       "      <td>15004</td>\n",
       "      <td>15752731.0</td>\n",
       "      <td>Y?an</td>\n",
       "      <td>605.0</td>\n",
       "      <td>Spain</td>\n",
       "      <td>Male</td>\n",
       "      <td>39.0</td>\n",
       "      <td>2.0</td>\n",
       "      <td>88915.85</td>\n",
       "      <td>1.0</td>\n",
       "      <td>1.0</td>\n",
       "      <td>0.0</td>\n",
       "      <td>138521.02</td>\n",
       "    </tr>\n",
       "    <tr>\n",
       "      <th>...</th>\n",
       "      <td>...</td>\n",
       "      <td>...</td>\n",
       "      <td>...</td>\n",
       "      <td>...</td>\n",
       "      <td>...</td>\n",
       "      <td>...</td>\n",
       "      <td>...</td>\n",
       "      <td>...</td>\n",
       "      <td>...</td>\n",
       "      <td>...</td>\n",
       "      <td>...</td>\n",
       "      <td>...</td>\n",
       "      <td>...</td>\n",
       "    </tr>\n",
       "    <tr>\n",
       "      <th>9995</th>\n",
       "      <td>24995</td>\n",
       "      <td>15725002.0</td>\n",
       "      <td>Chukwufumnanya</td>\n",
       "      <td>695.0</td>\n",
       "      <td>France</td>\n",
       "      <td>Female</td>\n",
       "      <td>26.0</td>\n",
       "      <td>7.0</td>\n",
       "      <td>0.00</td>\n",
       "      <td>2.0</td>\n",
       "      <td>1.0</td>\n",
       "      <td>0.0</td>\n",
       "      <td>161807.84</td>\n",
       "    </tr>\n",
       "    <tr>\n",
       "      <th>9996</th>\n",
       "      <td>24996</td>\n",
       "      <td>15612092.0</td>\n",
       "      <td>Ijendu</td>\n",
       "      <td>754.0</td>\n",
       "      <td>Spain</td>\n",
       "      <td>Female</td>\n",
       "      <td>28.0</td>\n",
       "      <td>8.0</td>\n",
       "      <td>0.00</td>\n",
       "      <td>2.0</td>\n",
       "      <td>1.0</td>\n",
       "      <td>1.0</td>\n",
       "      <td>109626.01</td>\n",
       "    </tr>\n",
       "    <tr>\n",
       "      <th>9997</th>\n",
       "      <td>24997</td>\n",
       "      <td>15750055.0</td>\n",
       "      <td>Ts'ai</td>\n",
       "      <td>676.0</td>\n",
       "      <td>Germany</td>\n",
       "      <td>Male</td>\n",
       "      <td>37.0</td>\n",
       "      <td>3.0</td>\n",
       "      <td>117594.41</td>\n",
       "      <td>2.0</td>\n",
       "      <td>1.0</td>\n",
       "      <td>0.0</td>\n",
       "      <td>176692.87</td>\n",
       "    </tr>\n",
       "    <tr>\n",
       "      <th>9998</th>\n",
       "      <td>24998</td>\n",
       "      <td>15789563.0</td>\n",
       "      <td>Macleod</td>\n",
       "      <td>614.0</td>\n",
       "      <td>Spain</td>\n",
       "      <td>Male</td>\n",
       "      <td>38.0</td>\n",
       "      <td>2.0</td>\n",
       "      <td>0.00</td>\n",
       "      <td>2.0</td>\n",
       "      <td>1.0</td>\n",
       "      <td>0.0</td>\n",
       "      <td>124592.83</td>\n",
       "    </tr>\n",
       "    <tr>\n",
       "      <th>9999</th>\n",
       "      <td>24999</td>\n",
       "      <td>15642655.0</td>\n",
       "      <td>T'ien</td>\n",
       "      <td>684.0</td>\n",
       "      <td>France</td>\n",
       "      <td>Male</td>\n",
       "      <td>32.0</td>\n",
       "      <td>3.0</td>\n",
       "      <td>0.00</td>\n",
       "      <td>2.0</td>\n",
       "      <td>1.0</td>\n",
       "      <td>0.0</td>\n",
       "      <td>66580.13</td>\n",
       "    </tr>\n",
       "  </tbody>\n",
       "</table>\n",
       "<p>10000 rows × 13 columns</p>\n",
       "</div>"
      ],
      "text/plain": [
       "         id  CustomerId         Surname  CreditScore Geography  Gender   Age  \\\n",
       "0     15000  15628308.0        Nkemjika        583.0    France    Male  40.0   \n",
       "1     15001  15686909.0            Chiu        595.0    France    Male  39.0   \n",
       "2     15002  15579616.0        Folliero        622.0    France    Male  24.0   \n",
       "3     15003  15795953.0    Chukwubuikem        577.0   Germany    Male  50.0   \n",
       "4     15004  15752731.0            Y?an        605.0     Spain    Male  39.0   \n",
       "...     ...         ...             ...          ...       ...     ...   ...   \n",
       "9995  24995  15725002.0  Chukwufumnanya        695.0    France  Female  26.0   \n",
       "9996  24996  15612092.0          Ijendu        754.0     Spain  Female  28.0   \n",
       "9997  24997  15750055.0           Ts'ai        676.0   Germany    Male  37.0   \n",
       "9998  24998  15789563.0         Macleod        614.0     Spain    Male  38.0   \n",
       "9999  24999  15642655.0           T'ien        684.0    France    Male  32.0   \n",
       "\n",
       "      Tenure    Balance  NumOfProducts  HasCrCard  IsActiveMember  \\\n",
       "0        7.0       0.00            2.0        1.0             0.0   \n",
       "1        3.0       0.00            2.0        1.0             0.0   \n",
       "2        3.0       0.00            2.0        1.0             0.0   \n",
       "3        5.0  127305.50            1.0        1.0             1.0   \n",
       "4        2.0   88915.85            1.0        1.0             0.0   \n",
       "...      ...        ...            ...        ...             ...   \n",
       "9995     7.0       0.00            2.0        1.0             0.0   \n",
       "9996     8.0       0.00            2.0        1.0             1.0   \n",
       "9997     3.0  117594.41            2.0        1.0             0.0   \n",
       "9998     2.0       0.00            2.0        1.0             0.0   \n",
       "9999     3.0       0.00            2.0        1.0             0.0   \n",
       "\n",
       "      EstimatedSalary  \n",
       "0           151481.86  \n",
       "1            87400.53  \n",
       "2           176712.59  \n",
       "3            28806.32  \n",
       "4           138521.02  \n",
       "...               ...  \n",
       "9995        161807.84  \n",
       "9996        109626.01  \n",
       "9997        176692.87  \n",
       "9998        124592.83  \n",
       "9999         66580.13  \n",
       "\n",
       "[10000 rows x 13 columns]"
      ]
     },
     "execution_count": 38,
     "metadata": {},
     "output_type": "execute_result"
    }
   ],
   "source": [
    "X_test"
   ]
  },
  {
   "cell_type": "code",
   "execution_count": 39,
   "id": "61f48b8e-904d-4336-b403-97d114d2a5d6",
   "metadata": {},
   "outputs": [],
   "source": [
    "X_train = X_train.drop(['id', 'Surname'], axis=1)\n",
    "X_test = X_test.drop(['id' ,'Surname'], axis=1)"
   ]
  },
  {
   "cell_type": "code",
   "execution_count": 40,
   "id": "9a01cfa3-42d9-4f29-8887-23261f3281d2",
   "metadata": {},
   "outputs": [],
   "source": [
    "from sklearn.preprocessing import LabelEncoder"
   ]
  },
  {
   "cell_type": "code",
   "execution_count": 41,
   "id": "911e466c-5cc2-423c-8444-484f9cee68ec",
   "metadata": {},
   "outputs": [],
   "source": [
    "for i in X_train.columns:\n",
    "    if X_train[i].dtype == object:\n",
    "        encoder = LabelEncoder()\n",
    "        X_train[i] = encoder.fit_transform(X_train[i])\n",
    "        X_test[i] = encoder.transform(X_test[i])"
   ]
  },
  {
   "cell_type": "code",
   "execution_count": 42,
   "id": "c96abde8-3537-4117-8193-f7f42db64b89",
   "metadata": {},
   "outputs": [
    {
     "name": "stdout",
     "output_type": "stream",
     "text": [
      "<class 'pandas.core.frame.DataFrame'>\n",
      "RangeIndex: 10000 entries, 0 to 9999\n",
      "Data columns (total 11 columns):\n",
      " #   Column           Non-Null Count  Dtype  \n",
      "---  ------           --------------  -----  \n",
      " 0   CustomerId       10000 non-null  float64\n",
      " 1   CreditScore      10000 non-null  float64\n",
      " 2   Geography        10000 non-null  int64  \n",
      " 3   Gender           10000 non-null  int64  \n",
      " 4   Age              10000 non-null  float64\n",
      " 5   Tenure           10000 non-null  float64\n",
      " 6   Balance          10000 non-null  float64\n",
      " 7   NumOfProducts    10000 non-null  float64\n",
      " 8   HasCrCard        10000 non-null  float64\n",
      " 9   IsActiveMember   10000 non-null  float64\n",
      " 10  EstimatedSalary  10000 non-null  float64\n",
      "dtypes: float64(9), int64(2)\n",
      "memory usage: 859.5 KB\n"
     ]
    }
   ],
   "source": [
    "X_test.info()"
   ]
  },
  {
   "cell_type": "code",
   "execution_count": 43,
   "id": "19526b61-c887-446f-8f87-15b0dd92ccb0",
   "metadata": {},
   "outputs": [],
   "source": [
    "from sklearn.preprocessing import MinMaxScaler"
   ]
  },
  {
   "cell_type": "code",
   "execution_count": 44,
   "id": "13380d9d-21cb-4d50-a749-9deb733ec54c",
   "metadata": {},
   "outputs": [],
   "source": [
    "Sceler = MinMaxScaler()"
   ]
  },
  {
   "cell_type": "code",
   "execution_count": 45,
   "id": "a79c09cb-7082-424f-877a-8518b7358628",
   "metadata": {},
   "outputs": [],
   "source": [
    "X_train = Sceler.fit_transform(X_train)\n",
    "X_test = Sceler.transform(X_test)"
   ]
  },
  {
   "cell_type": "code",
   "execution_count": 46,
   "id": "45734f65-e03e-4ce0-a579-1a291f15ec27",
   "metadata": {},
   "outputs": [],
   "source": [
    "from keras.utils import to_categorical"
   ]
  },
  {
   "cell_type": "code",
   "execution_count": 47,
   "id": "9539b0ba-7956-457e-8691-dd8f32a537d6",
   "metadata": {},
   "outputs": [],
   "source": [
    "y_train = to_categorical(y_train)"
   ]
  },
  {
   "cell_type": "code",
   "execution_count": 57,
   "id": "cc93d7e6-ca42-46ba-8196-597bf9ad0ad8",
   "metadata": {},
   "outputs": [
    {
     "data": {
      "text/plain": [
       "(15000, 2)"
      ]
     },
     "execution_count": 57,
     "metadata": {},
     "output_type": "execute_result"
    }
   ],
   "source": [
    "y_train.shape"
   ]
  },
  {
   "cell_type": "code",
   "execution_count": 58,
   "id": "e50a171f-b9f9-4a76-be54-270014aff36d",
   "metadata": {},
   "outputs": [],
   "source": [
    "y_train = y_train.reshape(15000, 2,)"
   ]
  },
  {
   "cell_type": "code",
   "execution_count": 49,
   "id": "73ebb727-2128-41d9-9cf7-963f3f6996a1",
   "metadata": {},
   "outputs": [
    {
     "data": {
      "text/plain": [
       "(15000, 11)"
      ]
     },
     "execution_count": 49,
     "metadata": {},
     "output_type": "execute_result"
    }
   ],
   "source": [
    "X_train.shape"
   ]
  },
  {
   "cell_type": "code",
   "execution_count": 51,
   "id": "cac16c11-4e3a-4a8a-b5b7-7a4db6d2a835",
   "metadata": {},
   "outputs": [],
   "source": [
    "X_train = X_train.reshape(15000, 11,)"
   ]
  },
  {
   "cell_type": "code",
   "execution_count": 52,
   "id": "b06f2048-a582-45d1-ac48-c29b69e3838f",
   "metadata": {},
   "outputs": [
    {
     "data": {
      "text/plain": [
       "(10000, 11)"
      ]
     },
     "execution_count": 52,
     "metadata": {},
     "output_type": "execute_result"
    }
   ],
   "source": [
    "X_test.shape"
   ]
  },
  {
   "cell_type": "code",
   "execution_count": 53,
   "id": "439a3511-488c-4512-851a-1c0ad33f8f34",
   "metadata": {},
   "outputs": [],
   "source": [
    "X_test = X_test.reshape(10000, 11,)"
   ]
  },
  {
   "cell_type": "code",
   "execution_count": 62,
   "id": "c4ebe814-b958-41f7-812e-d6405a6775e2",
   "metadata": {},
   "outputs": [
    {
     "name": "stderr",
     "output_type": "stream",
     "text": [
      "/home/marshal/Desktop/ML/venv/lib/python3.10/site-packages/keras/src/layers/core/dense.py:87: UserWarning: Do not pass an `input_shape`/`input_dim` argument to a layer. When using Sequential models, prefer using an `Input(shape)` object as the first layer in the model instead.\n",
      "  super().__init__(activity_regularizer=activity_regularizer, **kwargs)\n"
     ]
    }
   ],
   "source": [
    "model = Sequential()\n",
    "model.add(Dense(32, activation='relu', input_shape = (11, )))\n",
    "model.add(Dense(24, activation='relu'))\n",
    "model.add(Dense(16, activation='relu'))\n",
    "model.add(Dense(12, activation='relu'))\n",
    "model.add(Dense(2, activation='softmax'))\n",
    "\n",
    "model.compile(optimizer='adam', loss=['binary_crossentropy'], metrics=['accuracy'])"
   ]
  },
  {
   "cell_type": "code",
   "execution_count": 63,
   "id": "0c8eed18-daa4-4698-b41b-7cccf915978c",
   "metadata": {},
   "outputs": [
    {
     "name": "stdout",
     "output_type": "stream",
     "text": [
      "Epoch 1/15\n",
      "\u001b[1m7500/7500\u001b[0m \u001b[32m━━━━━━━━━━━━━━━━━━━━\u001b[0m\u001b[37m\u001b[0m \u001b[1m12s\u001b[0m 1ms/step - accuracy: 0.8339 - loss: 0.3959\n",
      "Epoch 2/15\n",
      "\u001b[1m7500/7500\u001b[0m \u001b[32m━━━━━━━━━━━━━━━━━━━━\u001b[0m\u001b[37m\u001b[0m \u001b[1m11s\u001b[0m 1ms/step - accuracy: 0.8775 - loss: 0.2955\n",
      "Epoch 3/15\n",
      "\u001b[1m7500/7500\u001b[0m \u001b[32m━━━━━━━━━━━━━━━━━━━━\u001b[0m\u001b[37m\u001b[0m \u001b[1m11s\u001b[0m 1ms/step - accuracy: 0.8927 - loss: 0.2644\n",
      "Epoch 4/15\n",
      "\u001b[1m7500/7500\u001b[0m \u001b[32m━━━━━━━━━━━━━━━━━━━━\u001b[0m\u001b[37m\u001b[0m \u001b[1m11s\u001b[0m 1ms/step - accuracy: 0.8990 - loss: 0.2572\n",
      "Epoch 5/15\n",
      "\u001b[1m7500/7500\u001b[0m \u001b[32m━━━━━━━━━━━━━━━━━━━━\u001b[0m\u001b[37m\u001b[0m \u001b[1m11s\u001b[0m 1ms/step - accuracy: 0.8994 - loss: 0.2509\n",
      "Epoch 6/15\n",
      "\u001b[1m7500/7500\u001b[0m \u001b[32m━━━━━━━━━━━━━━━━━━━━\u001b[0m\u001b[37m\u001b[0m \u001b[1m11s\u001b[0m 1ms/step - accuracy: 0.8969 - loss: 0.2525\n",
      "Epoch 7/15\n",
      "\u001b[1m7500/7500\u001b[0m \u001b[32m━━━━━━━━━━━━━━━━━━━━\u001b[0m\u001b[37m\u001b[0m \u001b[1m11s\u001b[0m 1ms/step - accuracy: 0.8994 - loss: 0.2506\n",
      "Epoch 8/15\n",
      "\u001b[1m7500/7500\u001b[0m \u001b[32m━━━━━━━━━━━━━━━━━━━━\u001b[0m\u001b[37m\u001b[0m \u001b[1m11s\u001b[0m 1ms/step - accuracy: 0.8956 - loss: 0.2610\n",
      "Epoch 9/15\n",
      "\u001b[1m7500/7500\u001b[0m \u001b[32m━━━━━━━━━━━━━━━━━━━━\u001b[0m\u001b[37m\u001b[0m \u001b[1m11s\u001b[0m 1ms/step - accuracy: 0.8988 - loss: 0.2559\n",
      "Epoch 10/15\n",
      "\u001b[1m7500/7500\u001b[0m \u001b[32m━━━━━━━━━━━━━━━━━━━━\u001b[0m\u001b[37m\u001b[0m \u001b[1m10s\u001b[0m 1ms/step - accuracy: 0.9001 - loss: 0.2453\n",
      "Epoch 11/15\n",
      "\u001b[1m7500/7500\u001b[0m \u001b[32m━━━━━━━━━━━━━━━━━━━━\u001b[0m\u001b[37m\u001b[0m \u001b[1m11s\u001b[0m 1ms/step - accuracy: 0.9006 - loss: 0.2497\n",
      "Epoch 12/15\n",
      "\u001b[1m7500/7500\u001b[0m \u001b[32m━━━━━━━━━━━━━━━━━━━━\u001b[0m\u001b[37m\u001b[0m \u001b[1m11s\u001b[0m 1ms/step - accuracy: 0.8965 - loss: 0.2574\n",
      "Epoch 13/15\n",
      "\u001b[1m7500/7500\u001b[0m \u001b[32m━━━━━━━━━━━━━━━━━━━━\u001b[0m\u001b[37m\u001b[0m \u001b[1m11s\u001b[0m 1ms/step - accuracy: 0.8949 - loss: 0.2573\n",
      "Epoch 14/15\n",
      "\u001b[1m7500/7500\u001b[0m \u001b[32m━━━━━━━━━━━━━━━━━━━━\u001b[0m\u001b[37m\u001b[0m \u001b[1m10s\u001b[0m 1ms/step - accuracy: 0.8998 - loss: 0.2561\n",
      "Epoch 15/15\n",
      "\u001b[1m7500/7500\u001b[0m \u001b[32m━━━━━━━━━━━━━━━━━━━━\u001b[0m\u001b[37m\u001b[0m \u001b[1m11s\u001b[0m 1ms/step - accuracy: 0.8961 - loss: 0.2516\n"
     ]
    },
    {
     "data": {
      "text/plain": [
       "<keras.src.callbacks.history.History at 0x7de16c814160>"
      ]
     },
     "execution_count": 63,
     "metadata": {},
     "output_type": "execute_result"
    }
   ],
   "source": [
    "model.fit(X_train, y_train, epochs=15, batch_size=2)"
   ]
  },
  {
   "cell_type": "code",
   "execution_count": 64,
   "id": "6eb48819-c8d8-4040-b7d6-d8d8e3f62f96",
   "metadata": {},
   "outputs": [
    {
     "name": "stdout",
     "output_type": "stream",
     "text": [
      "\u001b[1m313/313\u001b[0m \u001b[32m━━━━━━━━━━━━━━━━━━━━\u001b[0m\u001b[37m\u001b[0m \u001b[1m1s\u001b[0m 1ms/step\n"
     ]
    }
   ],
   "source": [
    "y_pred = model.predict(X_test)"
   ]
  },
  {
   "cell_type": "code",
   "execution_count": 65,
   "id": "cd078894-d708-410c-b281-d85729ac88c7",
   "metadata": {},
   "outputs": [],
   "source": [
    "pred = [np.argmax(i) for i in y_pred]"
   ]
  },
  {
   "cell_type": "code",
   "execution_count": 67,
   "id": "fd6575a6-61e0-4739-ae9b-f0f7e2214582",
   "metadata": {},
   "outputs": [],
   "source": [
    "pred = np.array(pred)"
   ]
  },
  {
   "cell_type": "code",
   "execution_count": 68,
   "id": "2eaee8a3-0eab-4a07-b39b-e1379c081dad",
   "metadata": {},
   "outputs": [],
   "source": [
    "df_sub['Exited'] = pred"
   ]
  },
  {
   "cell_type": "code",
   "execution_count": 69,
   "id": "683a7b07-5fa6-4d66-b6aa-4d188eb21ad7",
   "metadata": {},
   "outputs": [],
   "source": [
    "df_sub.to_csv('SNN_sub.csv', index=False, index_label=False)"
   ]
  },
  {
   "cell_type": "code",
   "execution_count": null,
   "id": "e6df4608-914b-43df-90bf-25fb6d57fc97",
   "metadata": {},
   "outputs": [],
   "source": []
  }
 ],
 "metadata": {
  "kernelspec": {
   "display_name": "Python 3 (ipykernel)",
   "language": "python",
   "name": "python3"
  },
  "language_info": {
   "codemirror_mode": {
    "name": "ipython",
    "version": 3
   },
   "file_extension": ".py",
   "mimetype": "text/x-python",
   "name": "python",
   "nbconvert_exporter": "python",
   "pygments_lexer": "ipython3",
   "version": "3.10.12"
  }
 },
 "nbformat": 4,
 "nbformat_minor": 5
}
